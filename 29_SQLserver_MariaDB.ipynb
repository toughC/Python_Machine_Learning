{
 "cells": [
  {
   "cell_type": "markdown",
   "id": "e8b164ab",
   "metadata": {},
   "source": [
    "### MySQL과 MariaDB"
   ]
  },
  {
   "cell_type": "markdown",
   "id": "75bb3b4f",
   "metadata": {},
   "source": [
    "#### MySQL\n",
    "- 90년대 중반에 개발된 MySQL은 시장에서 사용할 수 있는 최초의 오픈 DB중 하나\n",
    "- 가장 널리 사용되고 있는 관계형 데이터베이스 관리 시스템(RDBMS: Relational DBMS)\n",
    "- 장점\n",
    "    - 단순 쿼리 처리 성능이 어떤 제품보다 압도적 뛰어남\n",
    "    - 오래 사용되어 왔기 때문에 성능과 신뢰성 등에서 꾸준히 개선\n",
    "    - 오픈 소스 DB로 다중 사용자와 다중 스레드를 지원\n",
    "    - C언어, C++, JAVA, PHP 등 여러 프로그래밍 언어를 위한 다양한 API를 제공\n",
    "- 유닉스, 리눅스, 윈도우 등 다양한 운영체제에서 사용\n",
    "- PHP와 함께 웹 개발에 자주 사용\n",
    "- 상업적으로 사용할 때는 상업용 라이센스를 구입해야만 함"
   ]
  },
  {
   "cell_type": "markdown",
   "id": "38fd85cd",
   "metadata": {},
   "source": [
    "#### MariaDB\n",
    "- MySQL 데이터베이스 시스템을 기반으로 fork한 서비스로 MySQL의 개선된 버전\n",
    "- MySQL과 호환성이 매우 높음\n",
    "- MySQL에서 찾을 수 없는 수많은 내장된 강력한 기능과 많은 유용성, 보안 및 성능 개선사항이 함께 제공\n",
    "- 참조: https://mariadb.com/kb/ko/mariadb-korean-mariadb-mysql-/"
   ]
  },
  {
   "cell_type": "markdown",
   "id": "a3c624f8",
   "metadata": {},
   "source": [
    "### MySQL 연결 및 테스트\n",
    "- 1. MariaDB 연결: 연결자이름=pymysql.connect(연결옵션)\n",
    "- 2. 커서생성: 커서이름=연결자이름.cursor()\n",
    "- 3. SQL문 실행: 커서이름.execute(\"SQL문장\")\n",
    "- 4. 데이터저장: 연결자이름.commit()\n",
    "- 5. MariaDB 연결종료: 연결자이름.close()"
   ]
  },
  {
   "cell_type": "code",
   "execution_count": 7,
   "id": "e052e1b3",
   "metadata": {},
   "outputs": [],
   "source": [
    "# 모듈 설치\n",
    "# !pip install pymysql"
   ]
  },
  {
   "cell_type": "markdown",
   "id": "750b53bc",
   "metadata": {},
   "source": [
    "#### MySQL DB연결 테이블 생성\n",
    "- conn = pymysql.connect(host='MariaDB서버 IP', user='root', password='1234', db='pythonDB', charset='utf8')\n",
    "- cur = conn.cursor()\n",
    "- sql = \"CREATE TABLE IF NOT EXISTS userTable (id char(4), userName char(10), email char(15), birthYear int)\"\n"
   ]
  },
  {
   "cell_type": "code",
   "execution_count": 8,
   "id": "158778a7",
   "metadata": {},
   "outputs": [],
   "source": [
    "import pymysql\n",
    "\n",
    "# 연결자 생성 => 접속 정보\n",
    "conn=pymysql.connect(host='127.0.0.1', user='root', password='123456',\n",
    "                     port=3306, db='pydb', charset='utf8')\n",
    "cur=conn.cursor()  # 커서 생성\n",
    "\n",
    "# 테이블 생성 SQL 쿼리문 작성\n",
    "sql = \"CREATE TABLE IF NOT EXISTS userTable(id char(4), userName char(15), email char(25), birthYear int)\"\n",
    "\n",
    "# 커서를 통해서 SQL 쿼리문 실행\n",
    "cur.execute(sql)\n",
    "\n",
    "# 연결자를 통해 최종 저장\n",
    "conn.commit()\n",
    "\n",
    "# 연결자 종료\n",
    "conn.close()"
   ]
  },
  {
   "cell_type": "markdown",
   "id": "c30a60ac",
   "metadata": {},
   "source": [
    "#### 데이터 추가"
   ]
  },
  {
   "cell_type": "code",
   "execution_count": 9,
   "id": "0873b0b4",
   "metadata": {},
   "outputs": [],
   "source": [
    "import pymysql\n",
    "\n",
    "conn=pymysql.connect(host='127.0.0.1', user='root', password='123456',\n",
    "                     port=3306, db='pydb', charset='utf8')\n",
    "cur=conn.cursor()  # 커서 생성\n",
    "\n",
    "# 데이터 추가 SQL문\n",
    "sql='insert into userTable values(\"deu1\", \"홍길동\", \"hkd001@naver.com\", 2000)'\n",
    "\n",
    "# 데이터 추가 쿼리 실행\n",
    "cur.execute(sql)\n",
    "\n",
    "conn.commit()\n",
    "conn.close()"
   ]
  },
  {
   "cell_type": "code",
   "execution_count": 10,
   "id": "8fc66fcb",
   "metadata": {},
   "outputs": [
    {
     "ename": "KeyboardInterrupt",
     "evalue": "Interrupted by user",
     "output_type": "error",
     "traceback": [
      "\u001b[1;31m---------------------------------------------------------------------------\u001b[0m",
      "\u001b[1;31mKeyboardInterrupt\u001b[0m                         Traceback (most recent call last)",
      "Cell \u001b[1;32mIn[10], line 9\u001b[0m\n\u001b[0;32m      6\u001b[0m cur\u001b[38;5;241m=\u001b[39mconn\u001b[38;5;241m.\u001b[39mcursor()  \u001b[38;5;66;03m# 커서 생성\u001b[39;00m\n\u001b[0;32m      8\u001b[0m \u001b[38;5;28;01mwhile\u001b[39;00m \u001b[38;5;28;01mTrue\u001b[39;00m:\n\u001b[1;32m----> 9\u001b[0m     iddt\u001b[38;5;241m=\u001b[39m\u001b[38;5;28;43minput\u001b[39;49m\u001b[43m(\u001b[49m\u001b[38;5;124;43m'\u001b[39;49m\u001b[38;5;124;43m사용자 ID 입력:\u001b[39;49m\u001b[38;5;124;43m'\u001b[39;49m\u001b[43m)\u001b[49m\n\u001b[0;32m     10\u001b[0m     \u001b[38;5;28;01mif\u001b[39;00m iddt \u001b[38;5;241m==\u001b[39m\u001b[38;5;124m\"\u001b[39m\u001b[38;5;124m\"\u001b[39m:\u001b[38;5;28;01mbreak\u001b[39;00m\n\u001b[0;32m     11\u001b[0m     namedt\u001b[38;5;241m=\u001b[39m\u001b[38;5;28minput\u001b[39m(\u001b[38;5;124m'\u001b[39m\u001b[38;5;124m사용자 이름 입력:\u001b[39m\u001b[38;5;124m'\u001b[39m)\n",
      "File \u001b[1;32mC:\\ProgramData\\miniconda3\\envs\\deu\\lib\\site-packages\\ipykernel\\kernelbase.py:1175\u001b[0m, in \u001b[0;36mKernel.raw_input\u001b[1;34m(self, prompt)\u001b[0m\n\u001b[0;32m   1171\u001b[0m \u001b[38;5;28;01mif\u001b[39;00m \u001b[38;5;129;01mnot\u001b[39;00m \u001b[38;5;28mself\u001b[39m\u001b[38;5;241m.\u001b[39m_allow_stdin:\n\u001b[0;32m   1172\u001b[0m     \u001b[38;5;28;01mraise\u001b[39;00m StdinNotImplementedError(\n\u001b[0;32m   1173\u001b[0m         \u001b[38;5;124m\"\u001b[39m\u001b[38;5;124mraw_input was called, but this frontend does not support input requests.\u001b[39m\u001b[38;5;124m\"\u001b[39m\n\u001b[0;32m   1174\u001b[0m     )\n\u001b[1;32m-> 1175\u001b[0m \u001b[38;5;28;01mreturn\u001b[39;00m \u001b[38;5;28;43mself\u001b[39;49m\u001b[38;5;241;43m.\u001b[39;49m\u001b[43m_input_request\u001b[49m\u001b[43m(\u001b[49m\n\u001b[0;32m   1176\u001b[0m \u001b[43m    \u001b[49m\u001b[38;5;28;43mstr\u001b[39;49m\u001b[43m(\u001b[49m\u001b[43mprompt\u001b[49m\u001b[43m)\u001b[49m\u001b[43m,\u001b[49m\n\u001b[0;32m   1177\u001b[0m \u001b[43m    \u001b[49m\u001b[38;5;28;43mself\u001b[39;49m\u001b[38;5;241;43m.\u001b[39;49m\u001b[43m_parent_ident\u001b[49m\u001b[43m[\u001b[49m\u001b[38;5;124;43m\"\u001b[39;49m\u001b[38;5;124;43mshell\u001b[39;49m\u001b[38;5;124;43m\"\u001b[39;49m\u001b[43m]\u001b[49m\u001b[43m,\u001b[49m\n\u001b[0;32m   1178\u001b[0m \u001b[43m    \u001b[49m\u001b[38;5;28;43mself\u001b[39;49m\u001b[38;5;241;43m.\u001b[39;49m\u001b[43mget_parent\u001b[49m\u001b[43m(\u001b[49m\u001b[38;5;124;43m\"\u001b[39;49m\u001b[38;5;124;43mshell\u001b[39;49m\u001b[38;5;124;43m\"\u001b[39;49m\u001b[43m)\u001b[49m\u001b[43m,\u001b[49m\n\u001b[0;32m   1179\u001b[0m \u001b[43m    \u001b[49m\u001b[43mpassword\u001b[49m\u001b[38;5;241;43m=\u001b[39;49m\u001b[38;5;28;43;01mFalse\u001b[39;49;00m\u001b[43m,\u001b[49m\n\u001b[0;32m   1180\u001b[0m \u001b[43m\u001b[49m\u001b[43m)\u001b[49m\n",
      "File \u001b[1;32mC:\\ProgramData\\miniconda3\\envs\\deu\\lib\\site-packages\\ipykernel\\kernelbase.py:1217\u001b[0m, in \u001b[0;36mKernel._input_request\u001b[1;34m(self, prompt, ident, parent, password)\u001b[0m\n\u001b[0;32m   1214\u001b[0m             \u001b[38;5;28;01mbreak\u001b[39;00m\n\u001b[0;32m   1215\u001b[0m \u001b[38;5;28;01mexcept\u001b[39;00m \u001b[38;5;167;01mKeyboardInterrupt\u001b[39;00m:\n\u001b[0;32m   1216\u001b[0m     \u001b[38;5;66;03m# re-raise KeyboardInterrupt, to truncate traceback\u001b[39;00m\n\u001b[1;32m-> 1217\u001b[0m     \u001b[38;5;28;01mraise\u001b[39;00m \u001b[38;5;167;01mKeyboardInterrupt\u001b[39;00m(\u001b[38;5;124m\"\u001b[39m\u001b[38;5;124mInterrupted by user\u001b[39m\u001b[38;5;124m\"\u001b[39m) \u001b[38;5;28;01mfrom\u001b[39;00m \u001b[38;5;28mNone\u001b[39m\n\u001b[0;32m   1218\u001b[0m \u001b[38;5;28;01mexcept\u001b[39;00m \u001b[38;5;167;01mException\u001b[39;00m:\n\u001b[0;32m   1219\u001b[0m     \u001b[38;5;28mself\u001b[39m\u001b[38;5;241m.\u001b[39mlog\u001b[38;5;241m.\u001b[39mwarning(\u001b[38;5;124m\"\u001b[39m\u001b[38;5;124mInvalid Message:\u001b[39m\u001b[38;5;124m\"\u001b[39m, exc_info\u001b[38;5;241m=\u001b[39m\u001b[38;5;28;01mTrue\u001b[39;00m)\n",
      "\u001b[1;31mKeyboardInterrupt\u001b[0m: Interrupted by user"
     ]
    }
   ],
   "source": [
    "# 사용자에게 여러개의 데이터를 입력받아 SQL 서버에 저장\n",
    "import pymysql\n",
    "\n",
    "conn=pymysql.connect(host='127.0.0.1', user='root', password='123456',\n",
    "                     port=3306, db='pydb', charset='utf8')\n",
    "cur=conn.cursor()  # 커서 생성\n",
    "\n",
    "while True:\n",
    "    iddt=input('사용자 ID 입력:')\n",
    "    if iddt ==\"\":break\n",
    "    namedt=input('사용자 이름 입력:')\n",
    "    emaildt=input('사용자 이메일 입력:')\n",
    "    yeardt=input('사용자 출생년도 입력:')\n",
    "    \n",
    "    sql=f'insert into userTable values(\"{iddt}\", \"{namedt}\", \"{emaildt}\", {yeardt})'\n",
    "    cur.execute(sql)\n",
    "    print(f'{namedt}님 자료를 저장하였습니다.')\n",
    "    \n",
    "conn.commit()\n",
    "conn.close()"
   ]
  },
  {
   "cell_type": "markdown",
   "id": "8068f57d",
   "metadata": {},
   "source": [
    "#### 데이터 조회하기"
   ]
  },
  {
   "cell_type": "code",
   "execution_count": 11,
   "id": "c4ef4a07",
   "metadata": {},
   "outputs": [
    {
     "data": {
      "text/plain": [
       "(('deu1', '홍길동', 'hong@naver.com', 2000),\n",
       " ('deu2', '김장고', 'kimZ@naver.com', 1980),\n",
       " ('deu3', '이개발', 'leedog@empas.com', 1996),\n",
       " ('deu4', '박장고', 'parkjang@ccs.ac.kr', 2006),\n",
       " ('deu5', '부반성', 'bee@kkk.kr', 1970))"
      ]
     },
     "execution_count": 11,
     "metadata": {},
     "output_type": "execute_result"
    }
   ],
   "source": [
    "### 입력된 모든 데이터 출력\n",
    "import pymysql\n",
    "\n",
    "conn=pymysql.connect(host='127.0.0.1',user='root',password='123456',\n",
    "                    port=3306,db='pydb',charset='utf8')\n",
    "\n",
    "cur=conn.cursor() # 커서 생성\n",
    "\n",
    "sql ='select * from userTable'\n",
    "cur.execute(sql)\n",
    "\n",
    "result=cur.fetchall() # 조회 결과를 result 변수에 넣어줌\n",
    "conn.close()\n",
    "\n",
    "result  # 결과는 튜플 구조로 출력"
   ]
  },
  {
   "cell_type": "code",
   "execution_count": null,
   "id": "a6c0c8a6",
   "metadata": {},
   "outputs": [],
   "source": [
    "print('===============================================')\n",
    "print(f'사용자ID   이름     이메일     출생년도')\n",
    "print('===============================================')\n",
    "\n",
    "for res in result:\n",
    "    iddt = res[0]\n",
    "    namedt = res[1]\n",
    "    emaildt = res[2]\n",
    "    yeardt = res[3]\n",
    "    print(f'{iddt}    {namedt}    {emaildt}    {yeardt}')"
   ]
  },
  {
   "cell_type": "code",
   "execution_count": 12,
   "id": "103b09c3",
   "metadata": {},
   "outputs": [
    {
     "name": "stdout",
     "output_type": "stream",
     "text": [
      "deu1, 홍길동, hong@naver.com, 2000\n",
      "deu2, 김장고, kimZ@naver.com, 1980\n",
      "deu3, 이개발, leedog@empas.com, 1996\n",
      "deu4, 박장고, parkjang@ccs.ac.kr, 2006\n",
      "deu5, 부반성, bee@kkk.kr, 1970\n"
     ]
    }
   ],
   "source": [
    "for res in result:\n",
    "    idData = res[0]\n",
    "    nameData = res[1]\n",
    "    emailData = res[2]\n",
    "    yearData = res[3]\n",
    "    print(f'{idData}, {nameData}, {emailData}, {yearData}')"
   ]
  },
  {
   "cell_type": "code",
   "execution_count": 15,
   "id": "e3572ffa",
   "metadata": {},
   "outputs": [
    {
     "data": {
      "text/html": [
       "<div>\n",
       "<style scoped>\n",
       "    .dataframe tbody tr th:only-of-type {\n",
       "        vertical-align: middle;\n",
       "    }\n",
       "\n",
       "    .dataframe tbody tr th {\n",
       "        vertical-align: top;\n",
       "    }\n",
       "\n",
       "    .dataframe thead th {\n",
       "        text-align: right;\n",
       "    }\n",
       "</style>\n",
       "<table border=\"1\" class=\"dataframe\">\n",
       "  <thead>\n",
       "    <tr style=\"text-align: right;\">\n",
       "      <th></th>\n",
       "      <th>사용자ID</th>\n",
       "      <th>이름</th>\n",
       "      <th>이메일</th>\n",
       "      <th>출생생년</th>\n",
       "    </tr>\n",
       "  </thead>\n",
       "  <tbody>\n",
       "    <tr>\n",
       "      <th>0</th>\n",
       "      <td>deu1</td>\n",
       "      <td>홍길동</td>\n",
       "      <td>hong@naver.com</td>\n",
       "      <td>2000</td>\n",
       "    </tr>\n",
       "    <tr>\n",
       "      <th>1</th>\n",
       "      <td>deu2</td>\n",
       "      <td>김장고</td>\n",
       "      <td>kimZ@naver.com</td>\n",
       "      <td>1980</td>\n",
       "    </tr>\n",
       "    <tr>\n",
       "      <th>2</th>\n",
       "      <td>deu3</td>\n",
       "      <td>이개발</td>\n",
       "      <td>leedog@empas.com</td>\n",
       "      <td>1996</td>\n",
       "    </tr>\n",
       "    <tr>\n",
       "      <th>3</th>\n",
       "      <td>deu4</td>\n",
       "      <td>박장고</td>\n",
       "      <td>parkjang@ccs.ac.kr</td>\n",
       "      <td>2006</td>\n",
       "    </tr>\n",
       "    <tr>\n",
       "      <th>4</th>\n",
       "      <td>deu5</td>\n",
       "      <td>부반성</td>\n",
       "      <td>bee@kkk.kr</td>\n",
       "      <td>1970</td>\n",
       "    </tr>\n",
       "  </tbody>\n",
       "</table>\n",
       "</div>"
      ],
      "text/plain": [
       "  사용자ID   이름                 이메일  출생생년\n",
       "0  deu1  홍길동      hong@naver.com  2000\n",
       "1  deu2  김장고      kimZ@naver.com  1980\n",
       "2  deu3  이개발    leedog@empas.com  1996\n",
       "3  deu4  박장고  parkjang@ccs.ac.kr  2006\n",
       "4  deu5  부반성          bee@kkk.kr  1970"
      ]
     },
     "execution_count": 15,
     "metadata": {},
     "output_type": "execute_result"
    }
   ],
   "source": [
    "import pandas as pd\n",
    "\n",
    "df=pd.DataFrame(result,columns=['사용자ID', '이름', '이메일', '출생생년'])\n",
    "df"
   ]
  },
  {
   "cell_type": "markdown",
   "id": "16f83129",
   "metadata": {},
   "source": [
    "### [미션] 신규지 추가\n",
    "- 신규 등록 ID를 입력받아 검색 후 없을 경우에만 추가 등록한다."
   ]
  },
  {
   "cell_type": "code",
   "execution_count": 7,
   "id": "c4ddc1cd",
   "metadata": {},
   "outputs": [
    {
     "name": "stdout",
     "output_type": "stream",
     "text": [
      "사용자 ID 입력: deu7\n",
      "사용자 이름 입력:박치나\n",
      "사용자 이메일 입력:dfjkl@naver.com\n",
      "사용자 출생년도 입력:1999\n",
      "INSERT into userTable values(\"deu7\", \"박치나\", \"dfjkl@naver.com\", \"1999\")\n",
      "사용자 ID 입력: deu7\n",
      "존재하는 ID 입니다.\n"
     ]
    }
   ],
   "source": [
    "### 입력된 모든 데이터 출력\n",
    "import pymysql\n",
    "\n",
    "conn=pymysql.connect(host='127.0.0.1',user='root',password='123456',\n",
    "                    port=3306,db='pydb',charset='utf8')\n",
    "\n",
    "cur=conn.cursor() # 커서 생성\n",
    "\n",
    "while True:\n",
    "    idData=input('사용자 ID 입력: ')\n",
    "    sql1 = f'select * from userTable where exists (select id from userTable where id=\"{idData}\")'\n",
    "    check = cur.execute(sql1)\n",
    "    if check != 0: print(\"존재하는 ID 입니다.\"); break;\n",
    "    nameData=input('사용자 이름 입력:')\n",
    "    emailData=input('사용자 이메일 입력:')\n",
    "    yearData=input('사용자 출생년도 입력:')\n",
    "    \n",
    "    sql2=f'INSERT into userTable values(\"{idData}\", \"{nameData}\", \"{emailData}\", \"{yearData}\")'\n",
    "    cur.execute(sql2)\n",
    "    conn.commit()\n",
    "    print(sql2)\n",
    "\n",
    "conn.close()\n"
   ]
  },
  {
   "cell_type": "markdown",
   "id": "55e9efaa",
   "metadata": {},
   "source": [
    "#### 파이선 GUI 만들기\n",
    "- tkinter 모듈\n",
    "- PyQt5: https://wikidocs.net/book/2165\n",
    "\n",
    "pip install tk"
   ]
  },
  {
   "cell_type": "code",
   "execution_count": 2,
   "id": "36cb3775",
   "metadata": {},
   "outputs": [],
   "source": [
    "from tkinter import *\n",
    "from tkinter import messagebox"
   ]
  },
  {
   "cell_type": "code",
   "execution_count": 6,
   "id": "63867b8c",
   "metadata": {},
   "outputs": [],
   "source": [
    "# 메인 화면 생성(root windows) \n",
    "tk=Tk()\n",
    "\n",
    "def event1():\n",
    "    button1['text']= '버튼 클릭'\n",
    "    button2['text']= '버튼2'\n",
    "\n",
    "def event2():\n",
    "    button1['text']= '버튼1'\n",
    "    button2['text']= '버튼 클릭'\n",
    "    \n",
    "# 출력 텍스트 입력\n",
    "label = Label(tk, text='번튼 클릭 실습')\n",
    "button1=Button(tk, text='버튼1', command=event1)\n",
    "button2=Button(tk, text='버튼2', command=event2)\n",
    "\n",
    "# 객체 배치 정의\n",
    "label.pack()\n",
    "button1.pack(side=LEFT, padx=10, pady=10)  # side 배치 설정\n",
    "button2.pack(side=LEFT, padx=10, pady=10)  #  padx: 좌우여백,  pady: 상하여백\n",
    "# 메인 화면 실행\n",
    "tk.mainloop()"
   ]
  },
  {
   "cell_type": "markdown",
   "id": "b2a2ed84",
   "metadata": {},
   "source": [
    "- 평수 <=> 제곱메터 변환기"
   ]
  },
  {
   "cell_type": "code",
   "execution_count": 5,
   "id": "627f573a",
   "metadata": {},
   "outputs": [],
   "source": [
    "from tkinter import *\n",
    "\n",
    "tk=Tk()\n",
    "tk.geometry('300x200')\n",
    "tk.title('면적 변환기')\n",
    "\n",
    "## 버튼 클릭시 실행할 함수\n",
    "def Ft2M():   # 평 => 제곱미터\n",
    "    ft2m=entry1.get()\n",
    "    entry2.delete(0, \"end\")\n",
    "    entry2.insert(0, round(float(ft2m)*3.3, 2))\n",
    "    \n",
    "def M2Ft():   # 제곱미터 => 평\n",
    "    m2ft=entry2.get()\n",
    "    entry1.delete(0, \"end\")\n",
    "    entry1.insert(0, round(float(m2ft)/3.3, 2))\n",
    "    \n",
    "\n",
    "## 화면 구성 객체 생성\n",
    "## 레이블 생성\n",
    "label1=Label(tk, text='평').grid(row=0, column=0)\n",
    "label2=Label(tk, text='제곱미터').grid(row=1, column=0)\n",
    "\n",
    "## 텍스트 상자\n",
    "entry1=Entry(tk)    # 평 출력\n",
    "entry2=Entry(tk)    # 제곱미터 출력\n",
    "entry1.grid(row=0, column=1)\n",
    "entry2.grid(row=1, column=1)\n",
    "\n",
    "btu1 = Button(tk, text='평 => 제곱미터', bg='black', fg='white', \n",
    "              command=Ft2M).grid(row=2, column=0)\n",
    "btu2 = Button(tk, text='제곱미터 => 평', bg='black', fg='white', \n",
    "              command=M2Ft).grid(row=2, column=1)\n",
    "\n",
    "tk.mainloop()"
   ]
  },
  {
   "cell_type": "code",
   "execution_count": null,
   "id": "1f6d74e4",
   "metadata": {},
   "outputs": [],
   "source": []
  }
 ],
 "metadata": {
  "kernelspec": {
   "display_name": "Python 3 (ipykernel)",
   "language": "python",
   "name": "python3"
  },
  "language_info": {
   "codemirror_mode": {
    "name": "ipython",
    "version": 3
   },
   "file_extension": ".py",
   "mimetype": "text/x-python",
   "name": "python",
   "nbconvert_exporter": "python",
   "pygments_lexer": "ipython3",
   "version": "3.10.8"
  }
 },
 "nbformat": 4,
 "nbformat_minor": 5
}
