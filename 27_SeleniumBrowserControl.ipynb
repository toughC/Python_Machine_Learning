{
 "cells": [
  {
   "cell_type": "markdown",
   "id": "001ab7a4",
   "metadata": {},
   "source": [
    "## 네이버 이미지 크롤링\n",
    "- selenium을 이용해 이미지 크롤링\n",
    "- 폴더 생성/기본폴더, 파일명에 따른 다른 이름 저장"
   ]
  },
  {
   "cell_type": "markdown",
   "id": "5dd5dba5",
   "metadata": {},
   "source": [
    "#### selenium 실행 및 접속"
   ]
  },
  {
   "cell_type": "code",
   "execution_count": 7,
   "id": "71d6d7fc",
   "metadata": {},
   "outputs": [
    {
     "name": "stdout",
     "output_type": "stream",
     "text": [
      "Collecting tqdm\n",
      "  Downloading tqdm-4.64.1-py2.py3-none-any.whl (78 kB)\n",
      "     ---------------------------------------- 78.5/78.5 kB 2.2 MB/s eta 0:00:00\n",
      "Requirement already satisfied: colorama in c:\\programdata\\miniconda3\\envs\\deu\\lib\\site-packages (from tqdm) (0.4.6)\n",
      "Installing collected packages: tqdm\n",
      "Successfully installed tqdm-4.64.1\n"
     ]
    }
   ],
   "source": [
    "#!pip install tqdm"
   ]
  },
  {
   "cell_type": "code",
   "execution_count": 138,
   "id": "485fbafe",
   "metadata": {},
   "outputs": [],
   "source": [
    "# 필요한 모듈 연결\n",
    "from selenium.webdriver import Chrome        # Chrome 브라우져 모듈\n",
    "from selenium.webdriver.common.by import By  # 브라우져 제어 모듈\n",
    "from urllib import request   # 이미지 다운로드에 사용\n",
    "from bs4 import BeautifulSoup as bs\n",
    "import tqdm\n",
    "import time\n",
    "import os\n",
    "\n",
    "import warnings\n",
    "warnings.filterwarnings('ignore')"
   ]
  },
  {
   "cell_type": "code",
   "execution_count": 178,
   "id": "602e4d6c",
   "metadata": {},
   "outputs": [],
   "source": [
    "browser = Chrome('./chromedriver.exe')\n",
    "time.sleep(1)"
   ]
  },
  {
   "cell_type": "code",
   "execution_count": 179,
   "id": "de70c81a",
   "metadata": {},
   "outputs": [
    {
     "name": "stdout",
     "output_type": "stream",
     "text": [
      "이미지 검색어 입력:부두\n"
     ]
    }
   ],
   "source": [
    "# 키워드 입력 및 url 생성\n",
    "keyword=input(\"이미지 검색어 입력:\")"
   ]
  },
  {
   "cell_type": "code",
   "execution_count": 180,
   "id": "c4b3832d",
   "metadata": {},
   "outputs": [],
   "source": [
    "# url 생성\n",
    "url='https://search.naver.com/search.naver?where=image&sm=tab_jum&query=' + str(keyword)"
   ]
  },
  {
   "cell_type": "code",
   "execution_count": 181,
   "id": "1c176552",
   "metadata": {},
   "outputs": [],
   "source": [
    "# url을 이용한 페이지 이동\n",
    "browser.get(url)\n",
    "time.sleep(2)"
   ]
  },
  {
   "cell_type": "code",
   "execution_count": 183,
   "id": "41c1a15f",
   "metadata": {},
   "outputs": [
    {
     "name": "stdout",
     "output_type": "stream",
     "text": [
      "스크롤 다운 횟수 입력(최대:6):5\n"
     ]
    }
   ],
   "source": [
    "# 스크롤 이동 회수 정의\n",
    "count_down=int(input(\"스크롤 다운 횟수 입력(최대:6):\"))\n",
    "\n",
    "# 사용자가 요구한 스크롤 다운 횟수 확인(최대 6회)\n",
    "if count_down > 6:\n",
    "    count_down = 6"
   ]
  },
  {
   "cell_type": "code",
   "execution_count": 184,
   "id": "5813cd53",
   "metadata": {},
   "outputs": [],
   "source": [
    "# windows.scrollTo(0, Height) : 스크롤을 아래쪽으로 이동\n",
    "# Height 대신 document.body.scrollHeight를 입력하면 페이지 끝으로 이동\n",
    "\n",
    "for i in range(count_down):\n",
    "    browser.execute_script(\"window.scrollTo(0, document.body.scrollHeight)\")\n",
    "    time.sleep(1)"
   ]
  },
  {
   "cell_type": "markdown",
   "id": "63d0f511",
   "metadata": {},
   "source": [
    "#### 이미지 가져와 저장하기"
   ]
  },
  {
   "cell_type": "code",
   "execution_count": 185,
   "id": "45875754",
   "metadata": {},
   "outputs": [],
   "source": [
    "html=browser.page_source\n",
    "soup=bs(html, 'html.parser')"
   ]
  },
  {
   "cell_type": "code",
   "execution_count": 186,
   "id": "9bd8c7a4",
   "metadata": {},
   "outputs": [
    {
     "name": "stdout",
     "output_type": "stream",
     "text": [
      "495\n",
      "https://search.pstatic.net/common/?src=http%3A%2F%2Fimgnews.naver.net%2Fimage%2F003%2F2022%2F09%2F05%2FNISI20220905_0001078009_web_20220905103651_20220905103812578.jpg&type=a340\n"
     ]
    }
   ],
   "source": [
    "## img 태그의 src 속성을 이용하여 가져오기\n",
    "tag_img=soup.select('div.thumb a img._image') # image 뒤에 다 안 써도 생략해서 써도 가능\n",
    "#tag_img[0]['src'] # 이미지 소스값을 url로 나타내줌\n",
    "    \n",
    "imgurl_list=[]\n",
    "for tag in tag_img:\n",
    "    imgurl_list.append(tag['src'])\n",
    "    \n",
    "print(len(imgurl_list))\n",
    "print(imgurl_list[0])\n",
    "\n",
    "browser.close()"
   ]
  },
  {
   "cell_type": "code",
   "execution_count": 187,
   "id": "542a09b5",
   "metadata": {},
   "outputs": [
    {
     "name": "stdout",
     "output_type": "stream",
     "text": [
      "495\n",
      "108\n"
     ]
    }
   ],
   "source": [
    "# 중복데이터 확인\n",
    "print(len(imgurl_list))\n",
    "print(len(list(set(imgurl_list))))"
   ]
  },
  {
   "cell_type": "code",
   "execution_count": 177,
   "id": "d7dd135d",
   "metadata": {},
   "outputs": [
    {
     "data": {
      "text/plain": [
       "('c:/pytemp/부두.jpg', <http.client.HTTPMessage at 0x19c07b57cd0>)"
      ]
     },
     "execution_count": 177,
     "metadata": {},
     "output_type": "execute_result"
    }
   ],
   "source": [
    "## 이미지 저장하기: request.urlretrieve(대상 이미지 url, 저장파일명)\n",
    "img_name=\"c:/pytemp/\"+keyword+'.jpg'\n",
    "\n",
    "request.urlretrieve(imgurl_list[0],img_name)"
   ]
  },
  {
   "cell_type": "markdown",
   "id": "22780a2a",
   "metadata": {},
   "source": [
    "#### 검색된 전체 이미지 저장하기\n",
    "- os.makedirs(\"폴더 경로/생성 폴더명\") => 폴더 생성 명령어"
   ]
  },
  {
   "cell_type": "code",
   "execution_count": 164,
   "id": "d259ec6f",
   "metadata": {},
   "outputs": [
    {
     "data": {
      "text/plain": [
       "['.ipynb_checkpoints',\n",
       " '26_SeleniumBasic.ipynb',\n",
       " '27_SeleniumBrowserControl.ipynb',\n",
       " 'chromedriver.exe',\n",
       " 'imgs',\n",
       " 'LICENSE.chromedriver']"
      ]
     },
     "execution_count": 164,
     "metadata": {},
     "output_type": "execute_result"
    }
   ],
   "source": [
    "fdir='./imgs/'\n",
    "# os.path.exists(): 폴더 존재 여부 확인(폴더존재: True)\n",
    "if not os.path.exists(fdir + keyword): # 폴더가 없으면 폴더 생성\n",
    "    os.makedirs(fdir + '/' + keyword)\n",
    "else: \n",
    "    # 폴더가 있다면 뒤에 번호 입력후 생성 \n",
    "    num=0\n",
    "    while True:\n",
    "        num += 1\n",
    "        if not os.path.exists(fdir + '/' + keyword + str(num)): # 파일이 있나 없나\n",
    "            os.makedirs(fdir + '/' + keyword + str(num)) # 새로운 폴더 생성\n",
    "            fdir=fdir+'/'+keyword+str(num)+'/' # 저장위치 정의\n",
    "            break # 폴더 생성시 while문 종료\n",
    "    \n",
    "os.listdir()"
   ]
  },
  {
   "cell_type": "code",
   "execution_count": 165,
   "id": "acd0c0c6",
   "metadata": {},
   "outputs": [
    {
     "name": "stderr",
     "output_type": "stream",
     "text": [
      "100%|█████████████████████████████████████████████████████| 108/108 [00:05<00:00, 20.44it/s]"
     ]
    },
    {
     "name": "stdout",
     "output_type": "stream",
     "text": [
      "============이미지 저장 완료=============\n"
     ]
    },
    {
     "name": "stderr",
     "output_type": "stream",
     "text": [
      "\n"
     ]
    }
   ],
   "source": [
    "unimg_list=list(set(imgurl_list))\n",
    "no=1\n",
    "\n",
    "for tagimg in tqdm.tqdm(unimg_list):\n",
    "    img_name=\"c:/pytemp/\"+keyword+str(no)+'.jpg'\n",
    "    request.urlretrieve(tagimg, img_name)\n",
    "    no += 1\n",
    "\n",
    "print('============이미지 저장 완료=============')"
   ]
  },
  {
   "cell_type": "markdown",
   "id": "7f0f7161",
   "metadata": {},
   "source": [
    "### 웹 브라우저 제어\n",
    "- 오피넷 유가정보 파일 다운로드 받기"
   ]
  },
  {
   "cell_type": "code",
   "execution_count": 209,
   "id": "44e7f493",
   "metadata": {},
   "outputs": [],
   "source": [
    "browser=Chrome('./chromedriver.exe')\n",
    "time.sleep(1)"
   ]
  },
  {
   "cell_type": "code",
   "execution_count": 210,
   "id": "f5d55359",
   "metadata": {},
   "outputs": [],
   "source": [
    "browser.get('https://www.opinet.co.kr/')\n",
    "time.sleep(1)\n",
    "browser.get('https://www.opinet.co.kr/searRgSelect.do')"
   ]
  },
  {
   "cell_type": "markdown",
   "id": "13178125",
   "metadata": {},
   "source": [
    "#### 참고 사이트: https://www.selenium.dev/documentation/webdriver/actions_api/"
   ]
  },
  {
   "cell_type": "code",
   "execution_count": 214,
   "id": "52c5e08d",
   "metadata": {},
   "outputs": [],
   "source": [
    "from selenium.webdriver.common.by import By # 브라우저 제어 모듈\n",
    "\n",
    "# 부산시 강서부 데이터(첫번째 구) 다운 받기\n",
    "\n",
    "opt='//*[@id=\"SIDO_NM0\"]/option[2]'\n",
    "\n",
    "browser.find_element(By.XPATH, '//*[@id=\"SIDO_NM0\"]/option[3]').click()\n",
    "time.sleep(0.5)\n",
    "browser.find_element(By.XPATH, opt).click()\n",
    "time.sleep(1)\n",
    "browser.find_element(By.XPATH, '//*[@id=\"glopopd_excel\"]').click()\n",
    "time.sleep(2)"
   ]
  },
  {
   "cell_type": "code",
   "execution_count": 222,
   "id": "6229e0a3",
   "metadata": {},
   "outputs": [],
   "source": [
    "# 부산시 전체 데이터 다운 받기\n",
    "\n",
    "for i in range(2,18):\n",
    "    browser.find_element(By.XPATH, '//*[@id=\"SIDO_NM0\"]/option[3]').click()\n",
    "    time.sleep(0.5)\n",
    "    browser.find_element(By.XPATH, f'//*[@id=\"SIGUNGU_NM0\"]/option[{i}]').click()\n",
    "    time.sleep(1)\n",
    "    browser.find_element(By.XPATH, '//*[@id=\"glopopd_excel\"]').click()\n",
    "    time.sleep(2)\n",
    "browser.close()"
   ]
  },
  {
   "cell_type": "markdown",
   "id": "36c16c00",
   "metadata": {},
   "source": [
    "- 인스타그램 로그인"
   ]
  },
  {
   "cell_type": "code",
   "execution_count": 229,
   "id": "adcdd9eb",
   "metadata": {},
   "outputs": [],
   "source": [
    "# 브라우저 실행\n",
    "browser=Chrome('./chromedriver.exe')\n",
    "time.sleep(1)\n",
    "\n",
    "# 인스타그램 접속\n",
    "browser.get('https://www.instagram.com/accounts/login/?__coig_restricted=1')\n",
    "time.sleep(1)"
   ]
  },
  {
   "cell_type": "code",
   "execution_count": 228,
   "id": "35c90dac",
   "metadata": {},
   "outputs": [],
   "source": [
    "# ID/PASS 로그인\n",
    "userID='soobino0313'\n",
    "userPW='qw1234!!@'\n",
    "\n",
    "# ID입력 대상 정의\n",
    "input_id=browser.find_element(By.CSS_SELECTOR, '#loginForm > div > div:nth-child(1) > div > label > input')\n",
    "input_id.clear() # 입력 내용 초기화\n",
    "input_id.send_keys(userID)\n",
    "time.sleep(0.5)\n",
    "\n",
    "# PW입력 대상 정의\n",
    "input_pw=browser.find_element(By.CSS_SELECTOR,'#loginForm > div > div:nth-child(2) > div > label > input')\n",
    "input_pw.clear()\n",
    "input_pw.send_keys(userPW)\n",
    "time.sleep(0.5)\n",
    "\n",
    "input_pw.submit() # 데이터 전송(Enter를 누름)\n",
    "time.sleep(0.5)"
   ]
  },
  {
   "cell_type": "markdown",
   "id": "c5db1a17",
   "metadata": {},
   "source": [
    "#### [미션] 인스타그램 이미지 및 내용 가져오기"
   ]
  },
  {
   "cell_type": "code",
   "execution_count": 230,
   "id": "5f82c118",
   "metadata": {},
   "outputs": [
    {
     "ename": "KeyboardInterrupt",
     "evalue": "Interrupted by user",
     "output_type": "error",
     "traceback": [
      "\u001b[1;31m---------------------------------------------------------------------------\u001b[0m",
      "\u001b[1;31mKeyboardInterrupt\u001b[0m                         Traceback (most recent call last)",
      "Cell \u001b[1;32mIn[230], line 2\u001b[0m\n\u001b[0;32m      1\u001b[0m \u001b[38;5;66;03m# 인스타 검색 url 확인 및 사용자 키워드 적용\u001b[39;00m\n\u001b[1;32m----> 2\u001b[0m keyword \u001b[38;5;241m=\u001b[39m \u001b[38;5;28;43minput\u001b[39;49m\u001b[43m(\u001b[49m\u001b[38;5;124;43m\"\u001b[39;49m\u001b[38;5;124;43m검색어 입력:\u001b[39;49m\u001b[38;5;124;43m\"\u001b[39;49m\u001b[43m)\u001b[49m\n\u001b[0;32m      4\u001b[0m url\u001b[38;5;241m=\u001b[39m\u001b[38;5;124m\"\u001b[39m\u001b[38;5;124mhttps://www.instagram.com/explore/tags/\u001b[39m\u001b[38;5;124m\"\u001b[39m \u001b[38;5;241m+\u001b[39m keyword\n\u001b[0;32m      5\u001b[0m browser\u001b[38;5;241m.\u001b[39mget(url)\n",
      "File \u001b[1;32mC:\\ProgramData\\miniconda3\\envs\\deu\\lib\\site-packages\\ipykernel\\kernelbase.py:1175\u001b[0m, in \u001b[0;36mKernel.raw_input\u001b[1;34m(self, prompt)\u001b[0m\n\u001b[0;32m   1171\u001b[0m \u001b[38;5;28;01mif\u001b[39;00m \u001b[38;5;129;01mnot\u001b[39;00m \u001b[38;5;28mself\u001b[39m\u001b[38;5;241m.\u001b[39m_allow_stdin:\n\u001b[0;32m   1172\u001b[0m     \u001b[38;5;28;01mraise\u001b[39;00m StdinNotImplementedError(\n\u001b[0;32m   1173\u001b[0m         \u001b[38;5;124m\"\u001b[39m\u001b[38;5;124mraw_input was called, but this frontend does not support input requests.\u001b[39m\u001b[38;5;124m\"\u001b[39m\n\u001b[0;32m   1174\u001b[0m     )\n\u001b[1;32m-> 1175\u001b[0m \u001b[38;5;28;01mreturn\u001b[39;00m \u001b[38;5;28;43mself\u001b[39;49m\u001b[38;5;241;43m.\u001b[39;49m\u001b[43m_input_request\u001b[49m\u001b[43m(\u001b[49m\n\u001b[0;32m   1176\u001b[0m \u001b[43m    \u001b[49m\u001b[38;5;28;43mstr\u001b[39;49m\u001b[43m(\u001b[49m\u001b[43mprompt\u001b[49m\u001b[43m)\u001b[49m\u001b[43m,\u001b[49m\n\u001b[0;32m   1177\u001b[0m \u001b[43m    \u001b[49m\u001b[38;5;28;43mself\u001b[39;49m\u001b[38;5;241;43m.\u001b[39;49m\u001b[43m_parent_ident\u001b[49m\u001b[43m[\u001b[49m\u001b[38;5;124;43m\"\u001b[39;49m\u001b[38;5;124;43mshell\u001b[39;49m\u001b[38;5;124;43m\"\u001b[39;49m\u001b[43m]\u001b[49m\u001b[43m,\u001b[49m\n\u001b[0;32m   1178\u001b[0m \u001b[43m    \u001b[49m\u001b[38;5;28;43mself\u001b[39;49m\u001b[38;5;241;43m.\u001b[39;49m\u001b[43mget_parent\u001b[49m\u001b[43m(\u001b[49m\u001b[38;5;124;43m\"\u001b[39;49m\u001b[38;5;124;43mshell\u001b[39;49m\u001b[38;5;124;43m\"\u001b[39;49m\u001b[43m)\u001b[49m\u001b[43m,\u001b[49m\n\u001b[0;32m   1179\u001b[0m \u001b[43m    \u001b[49m\u001b[43mpassword\u001b[49m\u001b[38;5;241;43m=\u001b[39;49m\u001b[38;5;28;43;01mFalse\u001b[39;49;00m\u001b[43m,\u001b[49m\n\u001b[0;32m   1180\u001b[0m \u001b[43m\u001b[49m\u001b[43m)\u001b[49m\n",
      "File \u001b[1;32mC:\\ProgramData\\miniconda3\\envs\\deu\\lib\\site-packages\\ipykernel\\kernelbase.py:1217\u001b[0m, in \u001b[0;36mKernel._input_request\u001b[1;34m(self, prompt, ident, parent, password)\u001b[0m\n\u001b[0;32m   1214\u001b[0m             \u001b[38;5;28;01mbreak\u001b[39;00m\n\u001b[0;32m   1215\u001b[0m \u001b[38;5;28;01mexcept\u001b[39;00m \u001b[38;5;167;01mKeyboardInterrupt\u001b[39;00m:\n\u001b[0;32m   1216\u001b[0m     \u001b[38;5;66;03m# re-raise KeyboardInterrupt, to truncate traceback\u001b[39;00m\n\u001b[1;32m-> 1217\u001b[0m     \u001b[38;5;28;01mraise\u001b[39;00m \u001b[38;5;167;01mKeyboardInterrupt\u001b[39;00m(\u001b[38;5;124m\"\u001b[39m\u001b[38;5;124mInterrupted by user\u001b[39m\u001b[38;5;124m\"\u001b[39m) \u001b[38;5;28;01mfrom\u001b[39;00m \u001b[38;5;28mNone\u001b[39m\n\u001b[0;32m   1218\u001b[0m \u001b[38;5;28;01mexcept\u001b[39;00m \u001b[38;5;167;01mException\u001b[39;00m:\n\u001b[0;32m   1219\u001b[0m     \u001b[38;5;28mself\u001b[39m\u001b[38;5;241m.\u001b[39mlog\u001b[38;5;241m.\u001b[39mwarning(\u001b[38;5;124m\"\u001b[39m\u001b[38;5;124mInvalid Message:\u001b[39m\u001b[38;5;124m\"\u001b[39m, exc_info\u001b[38;5;241m=\u001b[39m\u001b[38;5;28;01mTrue\u001b[39;00m)\n",
      "\u001b[1;31mKeyboardInterrupt\u001b[0m: Interrupted by user"
     ]
    }
   ],
   "source": [
    "# 인스타 검색 url 확인 및 사용자 키워드 적용\n",
    "keyword = input(\"검색어 입력:\")\n",
    "\n",
    "url=\"https://www.instagram.com/explore/tags/\" + keyword\n",
    "browser.get(url)"
   ]
  },
  {
   "cell_type": "code",
   "execution_count": null,
   "id": "924fd138",
   "metadata": {},
   "outputs": [],
   "source": [
    "# 첫번째 게시물 클릭\n",
    "# browser.find_element_by_css_selector(\"div._9AhH0\").click()\n",
    "browser.find_element(By.CSS_SELECTOR,\"div._9AhH0\").click()\n",
    "time.sleep(3)"
   ]
  },
  {
   "cell_type": "code",
   "execution_count": null,
   "id": "1505f0e1",
   "metadata": {},
   "outputs": [],
   "source": [
    "# 첫번째 게시물 정보 가져오기\n",
    "html =  browser.page_source\n",
    "soup = bs(html, \"html.parser\")\n",
    "#print(soup)\n",
    "\n",
    "#content = soup.select(\"div.C4VMK > div.MOdxS > span\")[1].text\n",
    "content = soup.find(\"div\", class_=\"C4VMK\").find_all(\"span\")[1].text\n",
    "content"
   ]
  },
  {
   "cell_type": "code",
   "execution_count": null,
   "id": "0e984feb",
   "metadata": {},
   "outputs": [],
   "source": [
    "# 다음 게시물로 이동(두번째)\n",
    "# browser.find_element(By.CSS_SELECTOR,\"div.l8mY4 > button.wpO6b\").click()\n",
    "browser.find_element(By.XPATH, \"/html/body/div[6]/div[2]/div/div/button\").click()\n",
    "time.sleep(3)"
   ]
  },
  {
   "cell_type": "code",
   "execution_count": null,
   "id": "d16b1598",
   "metadata": {},
   "outputs": [],
   "source": [
    "# 두번째 이후 게시물 이동\n",
    "browser.find_element(By.XPATH, \"/html/body/div[6]/div[2]/div/div[2]/button\").click()\n",
    "time.sleep(3)"
   ]
  },
  {
   "cell_type": "code",
   "execution_count": null,
   "id": "a12e4316",
   "metadata": {},
   "outputs": [],
   "source": [
    "# 첫번째 게시물 클릭\n",
    "def get_first(driver):\n",
    "    #driver.find_element_by_css_selector(\"div._9AhH0\").click()\n",
    "    driver.find_element(By.CSS_SELECTOR,\"div._9AhH0\").click()\n",
    "    time.sleep(3)\n",
    "\n",
    "# 첫번째 게시물 정보 가져오기\n",
    "def get_content(driver):\n",
    "    html =  driver.page_source\n",
    "    soup = bs(html, \"html.parser\")\n",
    "    #print(soup)\n",
    "\n",
    "    #content = soup.select(\"div.C4VMK > div.MOdxS > span\")\n",
    "    content = soup.find(\"div\", class_=\"C4VMK\").find_all(\"span\")[1].text\n",
    "    \n",
    "    # 협찬/광고가 아닌 데이터만 출력하기\n",
    "    if content.split(\"#\")[0][:4] == \"<협찬>\" or content.split(\"#\")[0][:4] == \"<광고>\":\n",
    "        pass\n",
    "    else:\n",
    "        print(content.split(\"#\")[0])  # 내용만 출력하기\n",
    "    print()"
   ]
  },
  {
   "cell_type": "code",
   "execution_count": null,
   "id": "e481ad9d",
   "metadata": {},
   "outputs": [],
   "source": [
    "# 인스타 검색 url 확인 및 사용자 키워드 적용\n",
    "keyword = input(\"검색어 입력:\")\n",
    "\n",
    "url=\"https://www.instagram.com/explore/tags/\" + keyword\n",
    "driver.get(url)\n",
    "time.sleep(5)\n",
    "\n",
    "get_first(driver)\n",
    "\n",
    "for i in range(5):\n",
    "    get_content(driver)\n",
    "    get_next(driver, i)"
   ]
  },
  {
   "cell_type": "code",
   "execution_count": null,
   "id": "6428e51c",
   "metadata": {},
   "outputs": [],
   "source": []
  }
 ],
 "metadata": {
  "kernelspec": {
   "display_name": "Python 3 (ipykernel)",
   "language": "python",
   "name": "python3"
  },
  "language_info": {
   "codemirror_mode": {
    "name": "ipython",
    "version": 3
   },
   "file_extension": ".py",
   "mimetype": "text/x-python",
   "name": "python",
   "nbconvert_exporter": "python",
   "pygments_lexer": "ipython3",
   "version": "3.10.8"
  }
 },
 "nbformat": 4,
 "nbformat_minor": 5
}
